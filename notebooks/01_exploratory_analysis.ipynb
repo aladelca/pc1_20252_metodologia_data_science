{
 "cells": [
  {
   "cell_type": "code",
   "execution_count": 1,
   "id": "1960316e",
   "metadata": {},
   "outputs": [],
   "source": [
    "# Primer paso: Explorar el dataset real\n",
    "import pandas as pd\n",
    "import numpy as np\n",
    "import matplotlib.pyplot as plt\n",
    "import seaborn as sns\n",
    "import os"
   ]
  },
  {
   "cell_type": "code",
   "execution_count": null,
   "id": "9e8d7a46",
   "metadata": {},
   "outputs": [
    {
     "name": "stdout",
     "output_type": "stream",
     "text": [
      "Cargando dataset de Google Analytics...\n"
     ]
    }
   ],
   "source": [
    "# Leyendo datos\n",
    "print(\"Cargando dataset de Google Analytics...\")\n",
    "df = pd.read_parquet('../data/raw/data_sample.parquet')"
   ]
  },
  {
   "cell_type": "code",
   "execution_count": 15,
   "id": "67669521",
   "metadata": {},
   "outputs": [
    {
     "name": "stdout",
     "output_type": "stream",
     "text": [
      "=== INFORMACIÓN BÁSICA DEL DATASET ===\n",
      "Dimensiones: (74457, 77)\n",
      "Columnas: ['transaction_date', 'parsed_date', 'transaction_id', 'transaction_revenue_usd', 'transaction_tax_usd', 'transaction_shipping_usd', 'transaction_affiliation', 'currency_code', 'product_sku', 'product_name', 'product_category', 'product_brand', 'product_variant', 'product_quantity', 'product_price_usd', 'product_revenue_usd', 'is_impression', 'is_click', 'promo_id', 'promo_name', 'promo_creative', 'promo_position', 'visitor_id', 'session_id', 'session_number', 'session_start_time', 'total_visits', 'total_hits', 'total_pageviews', 'time_on_site_seconds', 'bounces', 'new_visits', 'traffic_source', 'traffic_medium', 'campaign', 'keyword', 'ad_content', 'referral_path', 'is_true_direct', 'channel_grouping', 'browser', 'browser_version', 'operating_system', 'os_version', 'is_mobile', 'mobile_device_brand', 'mobile_device_model', 'device_category', 'device_language', 'screen_resolution', 'continent', 'sub_continent', 'country', 'region', 'metro', 'city', 'network_domain', 'adwords_campaign_id', 'adwords_adgroup_id', 'adwords_creative_id', 'adwords_criteria_id', 'gclid', 'ad_network_type', 'hit_number', 'hit_time_ms', 'hit_hour', 'hit_minute', 'is_interaction', 'is_entrance', 'is_exit', 'referer', 'page_path', 'hostname', 'page_title', 'entrance_page_path', 'exit_page_path', 'social_engagement_type']\n",
      "Total de columnas: 77\n"
     ]
    }
   ],
   "source": [
    "print(\"=== INFORMACIÓN BÁSICA DEL DATASET ===\")\n",
    "print(f\"Dimensiones: {df.shape}\")\n",
    "print(f\"Columnas: {list(df.columns)}\")\n",
    "print(f\"Total de columnas: {len(df.columns)}\")\n",
    "#print(\"\\nTipos de datos:\")\n",
    "#print(df.dtypes)"
   ]
  },
  {
   "cell_type": "code",
   "execution_count": null,
   "id": "3872addf",
   "metadata": {},
   "outputs": [
    {
     "name": "stdout",
     "output_type": "stream",
     "text": [
      "\n",
      "Primeras filas:\n",
      "  transaction_date parsed_date   transaction_id  transaction_revenue_usd  \\\n",
      "0         20170801  2017-08-01  ORD201708011814                      NaN   \n",
      "1         20170801  2017-08-01  ORD201708011814                    40.29   \n",
      "2         20170801  2017-08-01  ORD201708011814                      NaN   \n",
      "3         20170801  2017-08-01  ORD201708011814                    40.29   \n",
      "4         20170801  2017-08-01  ORD201708011814                      NaN   \n",
      "\n",
      "   transaction_tax_usd  transaction_shipping_usd   transaction_affiliation  \\\n",
      "0                  NaN                       NaN  Google Merchandise Store   \n",
      "1                 8.82                      11.0  Google Merchandise Store   \n",
      "2                  NaN                       NaN  Google Merchandise Store   \n",
      "3                 8.82                      11.0  Google Merchandise Store   \n",
      "4                  NaN                       NaN  Google Merchandise Store   \n",
      "\n",
      "  currency_code     product_sku                               product_name  \n",
      "0           USD  GGOEGAEJ028013  Google Women's Short Sleeve Hero Tee Grey  \n",
      "1           USD  GGOEGAEJ028013  Google Women's Short Sleeve Hero Tee Grey  \n",
      "2           USD  GGOEGALB034113      Google Women's Vintage Hero Tee Black  \n",
      "3           USD  GGOEGALB034113      Google Women's Vintage Hero Tee Black  \n",
      "4           USD  GGOEGOCB017499                        Leatherette Journal  \n"
     ]
    }
   ],
   "source": [
    "df_10 = df[df.columns[:10]]\n",
    "df_5 = df[df.columns[:5]]\n",
    "print(\"\\nPrimeras filas:\")\n",
    "print(df_10.head())"
   ]
  },
  {
   "cell_type": "code",
   "execution_count": 29,
   "id": "048589c7",
   "metadata": {},
   "outputs": [
    {
     "name": "stdout",
     "output_type": "stream",
     "text": [
      "\n",
      "=== ESTADÍSTICAS DESCRIPTIVAS ===\n",
      "       transaction_date parsed_date   transaction_id  transaction_revenue_usd  \\\n",
      "count             74457       74457            74457             36744.000000   \n",
      "unique              365         365            11551                      NaN   \n",
      "top            20161212  2016-12-12  ORD201703041515                      NaN   \n",
      "freq                550         550              146                      NaN   \n",
      "mean                NaN         NaN              NaN               287.388543   \n",
      "std                 NaN         NaN              NaN              1028.358260   \n",
      "min                 NaN         NaN              NaN                 1.200000   \n",
      "25%                 NaN         NaN              NaN                46.960000   \n",
      "50%                 NaN         NaN              NaN                96.900000   \n",
      "75%                 NaN         NaN              NaN               230.870000   \n",
      "max                 NaN         NaN              NaN             23952.560000   \n",
      "\n",
      "        transaction_tax_usd  \n",
      "count          25581.000000  \n",
      "unique                  NaN  \n",
      "top                     NaN  \n",
      "freq                    NaN  \n",
      "mean              22.767936  \n",
      "std               31.563780  \n",
      "min                1.260000  \n",
      "25%                8.950000  \n",
      "50%               13.110000  \n",
      "75%               24.290000  \n",
      "max              763.140000  \n"
     ]
    }
   ],
   "source": [
    "print(\"\\n=== ESTADÍSTICAS DESCRIPTIVAS ===\")\n",
    "print(df_5.describe(include='all'))"
   ]
  },
  {
   "cell_type": "code",
   "execution_count": 30,
   "id": "1289ace5",
   "metadata": {},
   "outputs": [
    {
     "name": "stdout",
     "output_type": "stream",
     "text": [
      "\n",
      "=== VALORES NULOS ===\n",
      "transaction_revenue_usd     37713\n",
      "transaction_tax_usd         48876\n",
      "transaction_shipping_usd    37877\n",
      "dtype: int64\n"
     ]
    }
   ],
   "source": [
    "print(\"\\n=== VALORES NULOS ===\")\n",
    "null_analysis = df_10.isnull().sum()\n",
    "print(null_analysis[null_analysis > 0])"
   ]
  },
  {
   "cell_type": "code",
   "execution_count": 33,
   "id": "292f55fb",
   "metadata": {},
   "outputs": [
    {
     "name": "stdout",
     "output_type": "stream",
     "text": [
      "\n",
      "=== INFORMACIÓN DE TRANSACCIONES ===\n",
      "Columnas de transacción/revenue: ['transaction_date', 'transaction_id', 'transaction_revenue_usd', 'transaction_tax_usd', 'transaction_shipping_usd', 'transaction_affiliation', 'product_revenue_usd']\n",
      "\n",
      "=== INFORMACIÓN DE PRODUCTOS ===\n",
      "Columnas de producto: ['product_sku', 'product_name', 'product_category', 'product_brand', 'product_variant', 'product_quantity', 'product_price_usd', 'product_revenue_usd']\n"
     ]
    }
   ],
   "source": [
    "print(\"\\n=== INFORMACIÓN DE TRANSACCIONES ===\")\n",
    "# Verificar columnas relacionadas con transacciones\n",
    "transaction_cols = [col for col in df.columns if 'transact' in col.lower() or 'revenue' in col.lower()]\n",
    "print(\"Columnas de transacción/revenue:\", transaction_cols)\n",
    "\n",
    "print(\"\\n=== INFORMACIÓN DE PRODUCTOS ===\")\n",
    "product_cols = [col for col in df.columns if 'product' in col.lower() or 'sku' in col.lower()]\n",
    "print(\"Columnas de producto:\", product_cols)"
   ]
  }
 ],
 "metadata": {
  "kernelspec": {
   "display_name": "myenv (3.12.10)",
   "language": "python",
   "name": "python3"
  },
  "language_info": {
   "codemirror_mode": {
    "name": "ipython",
    "version": 3
   },
   "file_extension": ".py",
   "mimetype": "text/x-python",
   "name": "python",
   "nbconvert_exporter": "python",
   "pygments_lexer": "ipython3",
   "version": "3.12.10"
  }
 },
 "nbformat": 4,
 "nbformat_minor": 5
}
